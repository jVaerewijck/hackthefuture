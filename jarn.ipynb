{
 "cells": [
  {
   "cell_type": "code",
   "execution_count": 18,
   "metadata": {},
   "outputs": [],
   "source": [
    "import pandas as pd\n",
    "import numpy as np"
   ]
  },
  {
   "cell_type": "code",
   "execution_count": 19,
   "metadata": {},
   "outputs": [
    {
     "name": "stderr",
     "output_type": "stream",
     "text": [
      "C:\\Users\\jarne\\AppData\\Local\\Temp\\ipykernel_40836\\3066643026.py:1: DtypeWarning: Columns (4,5) have mixed types. Specify dtype option on import or set low_memory=False.\n",
      "  df = pd.read_csv(\"NASA Exoplanet Data/NASA Exoplanet Archive - Planetary Systems Data.csv\")\n"
     ]
    }
   ],
   "source": [
    "df = pd.read_csv(\"NASA Exoplanet Data/NASA Exoplanet Archive - Planetary Systems Data.csv\")"
   ]
  },
  {
   "cell_type": "code",
   "execution_count": 20,
   "metadata": {},
   "outputs": [
    {
     "name": "stdout",
     "output_type": "stream",
     "text": [
      "       rowid    pl_name  st_teff  st_lum   sy_dist  pl_orbsmax  pl_orbeccen  \\\n",
      "0          1   11 Com b      NaN     NaN   93.1846       1.210          NaN   \n",
      "1          2   11 Com b   4742.0   2.243   93.1846       1.290        0.231   \n",
      "2          3   11 Com b   4874.0   1.978   93.1846       1.178        0.238   \n",
      "3          4   11 UMi b   4213.0     NaN  125.3210       1.530        0.080   \n",
      "4          5   11 UMi b      NaN     NaN  125.3210       1.510          NaN   \n",
      "...      ...        ...      ...     ...       ...         ...          ...   \n",
      "36457  36458  ups And d      NaN     NaN   13.4054       2.570        0.269   \n",
      "36458  36459  ups Leo b   4836.0   1.800   52.5973       1.180        0.320   \n",
      "36459  36460   xi Aql b      NaN     NaN   56.1858       0.580          NaN   \n",
      "36460  36461   xi Aql b   4780.0   1.839   56.1858       0.680        0.000   \n",
      "36461  36462   xi Aql b   4841.0   1.767   56.1858       0.625        0.059   \n",
      "\n",
      "        pl_orbper  pl_masse  pl_rade  pl_dens  pl_eqt  \n",
      "0             NaN       NaN      NaN      NaN     NaN  \n",
      "1       326.03000       NaN      NaN      NaN     NaN  \n",
      "2       323.21000       NaN      NaN      NaN     NaN  \n",
      "3       516.21997       NaN      NaN      NaN     NaN  \n",
      "4             NaN       NaN      NaN      NaN     NaN  \n",
      "...           ...       ...      ...      ...     ...  \n",
      "36457  1319.00000       NaN      NaN      NaN     NaN  \n",
      "36458   385.20000       NaN      NaN      NaN     NaN  \n",
      "36459         NaN       NaN      NaN      NaN     NaN  \n",
      "36460   136.75000       NaN      NaN      NaN     NaN  \n",
      "36461   136.97000       NaN      NaN      NaN     NaN  \n",
      "\n",
      "[36462 rows x 12 columns]\n",
      "rowid              0\n",
      "pl_name            0\n",
      "st_teff         2971\n",
      "st_lum         27106\n",
      "sy_dist          834\n",
      "pl_orbsmax     16426\n",
      "pl_orbeccen    18214\n",
      "pl_orbper       3175\n",
      "pl_masse       32443\n",
      "pl_rade        11617\n",
      "pl_dens        34227\n",
      "pl_eqt         19885\n",
      "dtype: int64\n",
      "rowid           0.000000\n",
      "pl_name         0.000000\n",
      "st_teff         8.148209\n",
      "st_lum         74.340409\n",
      "sy_dist         2.287313\n",
      "pl_orbsmax     45.049641\n",
      "pl_orbeccen    49.953376\n",
      "pl_orbper       8.707696\n",
      "pl_masse       88.977566\n",
      "pl_rade        31.860567\n",
      "pl_dens        93.870331\n",
      "pl_eqt         54.536229\n",
      "dtype: float64\n"
     ]
    }
   ],
   "source": [
    "columns_to_select = ['rowid', 'pl_name', 'st_teff','st_lum','sy_dist','pl_orbsmax','pl_orbeccen','pl_orbper','pl_masse','pl_rade','pl_dens','pl_eqt']\n",
    "selected_columns = df[columns_to_select]\n",
    "\n",
    "print(selected_columns)\n",
    "print(selected_columns.isnull().sum())\n",
    "print((selected_columns.isnull().sum() / len(df)) * 100)"
   ]
  },
  {
   "cell_type": "code",
   "execution_count": 28,
   "metadata": {},
   "outputs": [
    {
     "name": "stdout",
     "output_type": "stream",
     "text": [
      "       rowid             pl_name  st_teff  st_lum  sy_dist  pl_orbsmax  \\\n",
      "34860  34861  Teegarden's Star c   3034.0  -3.141  3.83078      0.0455   \n",
      "34861  34862  Teegarden's Star c   2904.0  -3.137  3.83078      0.0443   \n",
      "\n",
      "       pl_orbeccen  pl_orbper  pl_masse  pl_rade  pl_dens  pl_eqt  \n",
      "34860         0.04     11.416       NaN      NaN      NaN   209.0  \n",
      "34861         0.00     11.409       NaN      NaN      NaN     NaN  \n"
     ]
    }
   ],
   "source": [
    "proxima_cen_b_rows = selected_columns[selected_columns['pl_name'] == \"Teegarden's Star c\"]\n",
    "\n",
    "# Print the rows\n",
    "print(proxima_cen_b_rows)"
   ]
  },
  {
   "cell_type": "code",
   "execution_count": 22,
   "metadata": {},
   "outputs": [],
   "source": [
    "INNER_CONSTANT = 1.1\n",
    "OUTER_CONSTANT = 0.53\n",
    "\n",
    "def habitable_zone(luminosity):\n",
    "    luminosity = 10 ** luminosity\n",
    "    r_inner = np.sqrt(luminosity / INNER_CONSTANT)\n",
    "    r_outer = np.sqrt(luminosity / OUTER_CONSTANT)\n",
    "    return r_inner, r_outer"
   ]
  },
  {
   "cell_type": "code",
   "execution_count": 23,
   "metadata": {},
   "outputs": [
    {
     "name": "stderr",
     "output_type": "stream",
     "text": [
      "C:\\Users\\jarne\\AppData\\Local\\Temp\\ipykernel_40836\\689554323.py:11: SettingWithCopyWarning: \n",
      "A value is trying to be set on a copy of a slice from a DataFrame.\n",
      "Try using .loc[row_indexer,col_indexer] = value instead\n",
      "\n",
      "See the caveats in the documentation: https://pandas.pydata.org/pandas-docs/stable/user_guide/indexing.html#returning-a-view-versus-a-copy\n",
      "  df['hz_inner'] = hz_inner\n",
      "C:\\Users\\jarne\\AppData\\Local\\Temp\\ipykernel_40836\\689554323.py:12: SettingWithCopyWarning: \n",
      "A value is trying to be set on a copy of a slice from a DataFrame.\n",
      "Try using .loc[row_indexer,col_indexer] = value instead\n",
      "\n",
      "See the caveats in the documentation: https://pandas.pydata.org/pandas-docs/stable/user_guide/indexing.html#returning-a-view-versus-a-copy\n",
      "  df['hz_outer'] = hz_outer\n"
     ]
    }
   ],
   "source": [
    "df = selected_columns.dropna(subset=['st_lum'])\n",
    "\n",
    "hz_inner = []\n",
    "hz_outer = []\n",
    "\n",
    "for luminosity in df['st_lum']:\n",
    "    r_inner, r_outer = habitable_zone(luminosity)\n",
    "    hz_inner.append(r_inner)\n",
    "    hz_outer.append(r_outer)\n",
    "\n",
    "df['hz_inner'] = hz_inner\n",
    "df['hz_outer'] = hz_outer"
   ]
  },
  {
   "cell_type": "code",
   "execution_count": 24,
   "metadata": {},
   "outputs": [
    {
     "name": "stdout",
     "output_type": "stream",
     "text": [
      "       rowid             pl_name  st_teff  st_lum   sy_dist  pl_orbsmax  \\\n",
      "124      125            55 Cnc f   5250.0  -0.197  12.58550     0.77330   \n",
      "125      126            55 Cnc f   5250.0  -0.197  12.58550     0.77000   \n",
      "127      128            55 Cnc f   5250.0  -0.197  12.58550     0.78100   \n",
      "129      130            55 Cnc f   5250.0  -0.197  12.58550     0.77500   \n",
      "183      184        BD+14 4559 b   5008.0  -0.320  49.35200     0.77700   \n",
      "...      ...                 ...      ...     ...       ...         ...   \n",
      "34830  34831        TRAPPIST-1 e   2520.0  -3.258       NaN     0.02924   \n",
      "34831  34832        TRAPPIST-1 e   2566.0  -3.257       NaN     0.02925   \n",
      "34832  34833        TRAPPIST-1 e   2559.0  -3.281       NaN     0.02817   \n",
      "34858  34859  Teegarden's Star b   3034.0  -3.141   3.83078     0.02590   \n",
      "36241  36242         Wolf 1069 b   3158.0  -2.531   9.58341     0.06720   \n",
      "\n",
      "       pl_orbeccen   pl_orbper  pl_masse  pl_rade  pl_dens  pl_eqt  hz_inner  \\\n",
      "124          0.080  260.910000   47.0051      NaN      NaN     NaN  0.759983   \n",
      "125          0.320  261.200000       NaN      NaN      NaN     NaN  0.759983   \n",
      "127          0.200  260.000000       NaN      NaN      NaN     NaN  0.759983   \n",
      "129          0.000  260.700000       NaN      NaN      NaN     NaN  0.759983   \n",
      "183          0.290  268.940000       NaN      NaN      NaN     NaN  0.659635   \n",
      "...            ...         ...       ...      ...      ...     ...       ...   \n",
      "34830          NaN    6.099565       NaN      NaN      NaN   250.0  0.022403   \n",
      "34831          NaN    6.101013    0.6920    0.920   4.9016     NaN  0.022429   \n",
      "34832        0.085    6.099615    0.6200    0.918   4.4000   251.0  0.021817   \n",
      "34858        0.030    4.906340       NaN      NaN      NaN   277.0  0.025633   \n",
      "36241          NaN   15.564000       NaN      NaN      NaN   250.0  0.051737   \n",
      "\n",
      "       hz_outer  is_habitable  \n",
      "124    1.094869          True  \n",
      "125    1.094869          True  \n",
      "127    1.094869          True  \n",
      "129    1.094869          True  \n",
      "183    0.950303          True  \n",
      "...         ...           ...  \n",
      "34830  0.032275          True  \n",
      "34831  0.032312          True  \n",
      "34832  0.031431          True  \n",
      "34858  0.036929          True  \n",
      "36241  0.074535          True  \n",
      "\n",
      "[98 rows x 15 columns]\n"
     ]
    },
    {
     "name": "stderr",
     "output_type": "stream",
     "text": [
      "C:\\Users\\jarne\\AppData\\Local\\Temp\\ipykernel_40836\\3884127847.py:1: SettingWithCopyWarning: \n",
      "A value is trying to be set on a copy of a slice from a DataFrame.\n",
      "Try using .loc[row_indexer,col_indexer] = value instead\n",
      "\n",
      "See the caveats in the documentation: https://pandas.pydata.org/pandas-docs/stable/user_guide/indexing.html#returning-a-view-versus-a-copy\n",
      "  df['is_habitable'] = (df['pl_orbsmax'] >= df['hz_inner']) & (df['pl_orbsmax'] <= df['hz_outer'])\n"
     ]
    }
   ],
   "source": [
    "df['is_habitable'] = (df['pl_orbsmax'] >= df['hz_inner']) & (df['pl_orbsmax'] <= df['hz_outer'])\n",
    "\n",
    "habitable_planets = df[df['is_habitable']]\n",
    "\n",
    "print(habitable_planets)\n",
    "habitable_planets.to_csv(\"habitable_planets.csv\", index=True)"
   ]
  }
 ],
 "metadata": {
  "kernelspec": {
   "display_name": "Python 3",
   "language": "python",
   "name": "python3"
  },
  "language_info": {
   "codemirror_mode": {
    "name": "ipython",
    "version": 3
   },
   "file_extension": ".py",
   "mimetype": "text/x-python",
   "name": "python",
   "nbconvert_exporter": "python",
   "pygments_lexer": "ipython3",
   "version": "3.11.4"
  }
 },
 "nbformat": 4,
 "nbformat_minor": 2
}
