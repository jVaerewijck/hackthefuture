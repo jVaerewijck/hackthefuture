{
 "cells": [
  {
   "cell_type": "code",
   "execution_count": 3,
   "metadata": {},
   "outputs": [],
   "source": [
    "import pandas as pd"
   ]
  },
  {
   "cell_type": "code",
   "execution_count": 4,
   "metadata": {},
   "outputs": [
    {
     "name": "stderr",
     "output_type": "stream",
     "text": [
      "C:\\Users\\jarne\\AppData\\Local\\Temp\\ipykernel_29820\\3066643026.py:1: DtypeWarning: Columns (4,5) have mixed types. Specify dtype option on import or set low_memory=False.\n",
      "  df = pd.read_csv(\"NASA Exoplanet Data/NASA Exoplanet Archive - Planetary Systems Data.csv\")\n"
     ]
    }
   ],
   "source": [
    "df = pd.read_csv(\"NASA Exoplanet Data/NASA Exoplanet Archive - Planetary Systems Data.csv\")"
   ]
  },
  {
   "cell_type": "code",
   "execution_count": 5,
   "metadata": {},
   "outputs": [
    {
     "name": "stdout",
     "output_type": "stream",
     "text": [
      "       rowid    pl_name  st_teff  st_lum   sy_dist  pl_orbsmax  pl_orbeccen  \\\n",
      "0          1   11 Com b      NaN     NaN   93.1846       1.210          NaN   \n",
      "1          2   11 Com b   4742.0   2.243   93.1846       1.290        0.231   \n",
      "2          3   11 Com b   4874.0   1.978   93.1846       1.178        0.238   \n",
      "3          4   11 UMi b   4213.0     NaN  125.3210       1.530        0.080   \n",
      "4          5   11 UMi b      NaN     NaN  125.3210       1.510          NaN   \n",
      "...      ...        ...      ...     ...       ...         ...          ...   \n",
      "36457  36458  ups And d      NaN     NaN   13.4054       2.570        0.269   \n",
      "36458  36459  ups Leo b   4836.0   1.800   52.5973       1.180        0.320   \n",
      "36459  36460   xi Aql b      NaN     NaN   56.1858       0.580          NaN   \n",
      "36460  36461   xi Aql b   4780.0   1.839   56.1858       0.680        0.000   \n",
      "36461  36462   xi Aql b   4841.0   1.767   56.1858       0.625        0.059   \n",
      "\n",
      "        pl_orbper  pl_masse  pl_rade  pl_dens  pl_eqt  \n",
      "0             NaN       NaN      NaN      NaN     NaN  \n",
      "1       326.03000       NaN      NaN      NaN     NaN  \n",
      "2       323.21000       NaN      NaN      NaN     NaN  \n",
      "3       516.21997       NaN      NaN      NaN     NaN  \n",
      "4             NaN       NaN      NaN      NaN     NaN  \n",
      "...           ...       ...      ...      ...     ...  \n",
      "36457  1319.00000       NaN      NaN      NaN     NaN  \n",
      "36458   385.20000       NaN      NaN      NaN     NaN  \n",
      "36459         NaN       NaN      NaN      NaN     NaN  \n",
      "36460   136.75000       NaN      NaN      NaN     NaN  \n",
      "36461   136.97000       NaN      NaN      NaN     NaN  \n",
      "\n",
      "[36462 rows x 12 columns]\n"
     ]
    }
   ],
   "source": [
    "columns_to_select = ['rowid', 'pl_name', 'st_teff','st_lum','sy_dist','pl_orbsmax','pl_orbeccen','pl_orbper','pl_masse','pl_rade','pl_dens','pl_eqt']\n",
    "selected_columns = df[columns_to_select]\n",
    "\n",
    "print(selected_columns)"
   ]
  },
  {
   "cell_type": "code",
   "execution_count": null,
   "metadata": {},
   "outputs": [],
   "source": [
    "columns_to_select = ['pl_masse','pl_rade','pl_dens','pl_eqt']\n",
    "nan = df[columns_to_select]\n",
    "\n",
    "print(nan)"
   ]
  }
 ],
 "metadata": {
  "kernelspec": {
   "display_name": "Python 3",
   "language": "python",
   "name": "python3"
  },
  "language_info": {
   "codemirror_mode": {
    "name": "ipython",
    "version": 3
   },
   "file_extension": ".py",
   "mimetype": "text/x-python",
   "name": "python",
   "nbconvert_exporter": "python",
   "pygments_lexer": "ipython3",
   "version": "3.11.4"
  }
 },
 "nbformat": 4,
 "nbformat_minor": 2
}
