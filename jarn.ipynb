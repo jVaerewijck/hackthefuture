{
 "cells": [
  {
   "cell_type": "code",
   "execution_count": 36,
   "metadata": {},
   "outputs": [],
   "source": [
    "import pandas as pd\n",
    "import numpy as np"
   ]
  },
  {
   "cell_type": "code",
   "execution_count": 37,
   "metadata": {},
   "outputs": [
    {
     "name": "stderr",
     "output_type": "stream",
     "text": [
      "C:\\Users\\jarne\\AppData\\Local\\Temp\\ipykernel_29820\\3066643026.py:1: DtypeWarning: Columns (4,5) have mixed types. Specify dtype option on import or set low_memory=False.\n",
      "  df = pd.read_csv(\"NASA Exoplanet Data/NASA Exoplanet Archive - Planetary Systems Data.csv\")\n"
     ]
    }
   ],
   "source": [
    "df = pd.read_csv(\"NASA Exoplanet Data/NASA Exoplanet Archive - Planetary Systems Data.csv\")"
   ]
  },
  {
   "cell_type": "code",
   "execution_count": 38,
   "metadata": {},
   "outputs": [
    {
     "name": "stdout",
     "output_type": "stream",
     "text": [
      "       rowid    pl_name  st_teff  st_lum   sy_dist  pl_orbsmax  pl_orbeccen  \\\n",
      "0          1   11 Com b      NaN     NaN   93.1846       1.210          NaN   \n",
      "1          2   11 Com b   4742.0   2.243   93.1846       1.290        0.231   \n",
      "2          3   11 Com b   4874.0   1.978   93.1846       1.178        0.238   \n",
      "3          4   11 UMi b   4213.0     NaN  125.3210       1.530        0.080   \n",
      "4          5   11 UMi b      NaN     NaN  125.3210       1.510          NaN   \n",
      "...      ...        ...      ...     ...       ...         ...          ...   \n",
      "36457  36458  ups And d      NaN     NaN   13.4054       2.570        0.269   \n",
      "36458  36459  ups Leo b   4836.0   1.800   52.5973       1.180        0.320   \n",
      "36459  36460   xi Aql b      NaN     NaN   56.1858       0.580          NaN   \n",
      "36460  36461   xi Aql b   4780.0   1.839   56.1858       0.680        0.000   \n",
      "36461  36462   xi Aql b   4841.0   1.767   56.1858       0.625        0.059   \n",
      "\n",
      "        pl_orbper  pl_masse  pl_rade  pl_dens  pl_eqt  \n",
      "0             NaN       NaN      NaN      NaN     NaN  \n",
      "1       326.03000       NaN      NaN      NaN     NaN  \n",
      "2       323.21000       NaN      NaN      NaN     NaN  \n",
      "3       516.21997       NaN      NaN      NaN     NaN  \n",
      "4             NaN       NaN      NaN      NaN     NaN  \n",
      "...           ...       ...      ...      ...     ...  \n",
      "36457  1319.00000       NaN      NaN      NaN     NaN  \n",
      "36458   385.20000       NaN      NaN      NaN     NaN  \n",
      "36459         NaN       NaN      NaN      NaN     NaN  \n",
      "36460   136.75000       NaN      NaN      NaN     NaN  \n",
      "36461   136.97000       NaN      NaN      NaN     NaN  \n",
      "\n",
      "[36462 rows x 12 columns]\n",
      "rowid              0\n",
      "pl_name            0\n",
      "st_teff         2971\n",
      "st_lum         27106\n",
      "sy_dist          834\n",
      "pl_orbsmax     16426\n",
      "pl_orbeccen    18214\n",
      "pl_orbper       3175\n",
      "pl_masse       32443\n",
      "pl_rade        11617\n",
      "pl_dens        34227\n",
      "pl_eqt         19885\n",
      "dtype: int64\n",
      "rowid           0.000000\n",
      "pl_name         0.000000\n",
      "st_teff         8.148209\n",
      "st_lum         74.340409\n",
      "sy_dist         2.287313\n",
      "pl_orbsmax     45.049641\n",
      "pl_orbeccen    49.953376\n",
      "pl_orbper       8.707696\n",
      "pl_masse       88.977566\n",
      "pl_rade        31.860567\n",
      "pl_dens        93.870331\n",
      "pl_eqt         54.536229\n",
      "dtype: float64\n"
     ]
    }
   ],
   "source": [
    "columns_to_select = ['rowid', 'pl_name', 'st_teff','st_lum','sy_dist','pl_orbsmax','pl_orbeccen','pl_orbper','pl_masse','pl_rade','pl_dens','pl_eqt']\n",
    "selected_columns = df[columns_to_select]\n",
    "\n",
    "print(selected_columns)\n",
    "print(selected_columns.isnull().sum())\n",
    "print((selected_columns.isnull().sum() / len(df)) * 100)"
   ]
  },
  {
   "cell_type": "code",
   "execution_count": 39,
   "metadata": {},
   "outputs": [],
   "source": [
    "INNER_CONSTANT = 1.1\n",
    "OUTER_CONSTANT = 0.53\n",
    "\n",
    "def habitable_zone(luminosity):\n",
    "    \"\"\"Calculate the habitable zone boundaries in AU.\"\"\"\n",
    "    r_inner = np.sqrt(luminosity / INNER_CONSTANT)\n",
    "    r_outer = np.sqrt(luminosity / OUTER_CONSTANT)\n",
    "    return r_inner, r_outer"
   ]
  },
  {
   "cell_type": "code",
   "execution_count": 40,
   "metadata": {},
   "outputs": [
    {
     "name": "stderr",
     "output_type": "stream",
     "text": [
      "C:\\Users\\jarne\\AppData\\Local\\Temp\\ipykernel_29820\\3857525657.py:6: RuntimeWarning: invalid value encountered in sqrt\n",
      "  r_inner = np.sqrt(luminosity / INNER_CONSTANT)\n",
      "C:\\Users\\jarne\\AppData\\Local\\Temp\\ipykernel_29820\\3857525657.py:7: RuntimeWarning: invalid value encountered in sqrt\n",
      "  r_outer = np.sqrt(luminosity / OUTER_CONSTANT)\n",
      "C:\\Users\\jarne\\AppData\\Local\\Temp\\ipykernel_29820\\689554323.py:11: SettingWithCopyWarning: \n",
      "A value is trying to be set on a copy of a slice from a DataFrame.\n",
      "Try using .loc[row_indexer,col_indexer] = value instead\n",
      "\n",
      "See the caveats in the documentation: https://pandas.pydata.org/pandas-docs/stable/user_guide/indexing.html#returning-a-view-versus-a-copy\n",
      "  df['hz_inner'] = hz_inner\n",
      "C:\\Users\\jarne\\AppData\\Local\\Temp\\ipykernel_29820\\689554323.py:12: SettingWithCopyWarning: \n",
      "A value is trying to be set on a copy of a slice from a DataFrame.\n",
      "Try using .loc[row_indexer,col_indexer] = value instead\n",
      "\n",
      "See the caveats in the documentation: https://pandas.pydata.org/pandas-docs/stable/user_guide/indexing.html#returning-a-view-versus-a-copy\n",
      "  df['hz_outer'] = hz_outer\n"
     ]
    }
   ],
   "source": [
    "df = selected_columns.dropna(subset=['st_lum'])\n",
    "\n",
    "hz_inner = []\n",
    "hz_outer = []\n",
    "\n",
    "for luminosity in df['st_lum']:\n",
    "    r_inner, r_outer = habitable_zone(luminosity)\n",
    "    hz_inner.append(r_inner)\n",
    "    hz_outer.append(r_outer)\n",
    "\n",
    "df['hz_inner'] = hz_inner\n",
    "df['hz_outer'] = hz_outer"
   ]
  },
  {
   "cell_type": "code",
   "execution_count": null,
   "metadata": {},
   "outputs": [
    {
     "name": "stdout",
     "output_type": "stream",
     "text": [
      "       rowid       pl_name  st_teff  st_lum    sy_dist  pl_orbsmax  \\\n",
      "23        24      17 Sco b  4157.00   2.254   124.9530      1.4500   \n",
      "33        34      24 Sex b  5098.00   1.164    72.0691      1.3330   \n",
      "189      190  BD+20 2457 c  4137.00   3.170  1539.7100      2.0100   \n",
      "196      197   BD+48 740 b  4534.00   1.640   666.5890      1.7000   \n",
      "1774    1775    HD 10180 f  5911.00   0.173    38.9607      0.4929   \n",
      "...      ...           ...      ...     ...        ...         ...   \n",
      "36398  36399    nu Oct A b  4860.00   1.230    21.1999      1.2500   \n",
      "36399  36400      nu Oph b  4886.00   2.039    46.2107      1.7900   \n",
      "36400  36401      nu Oph b  4887.00   1.895    46.2107      1.7650   \n",
      "36401  36402      nu Oph b  4928.00   2.090    46.2107      1.9000   \n",
      "36451  36452     ups And c  6105.51   0.525    13.4054      0.8320   \n",
      "\n",
      "       pl_orbeccen  pl_orbper    pl_masse  pl_rade  pl_dens  pl_eqt  hz_inner  \\\n",
      "23          0.0600     578.38         NaN      NaN      NaN     NaN  1.431465   \n",
      "33          0.0900     452.80         NaN      NaN      NaN     NaN  1.028680   \n",
      "189         0.1800     621.99         NaN      NaN      NaN     NaN  1.697592   \n",
      "196         0.7600     733.00         NaN      NaN      NaN     NaN  1.221028   \n",
      "1774        0.1350     122.76         NaN      NaN      NaN     NaN  0.396576   \n",
      "...            ...        ...         ...      ...      ...     ...       ...   \n",
      "36398       0.1100     417.00   762.78818      NaN      NaN     NaN  1.057441   \n",
      "36399       0.1240     530.21  7057.73298      NaN      NaN     NaN  1.361483   \n",
      "36400       0.1260     529.93         NaN      NaN      NaN     NaN  1.312527   \n",
      "36401       0.1256     530.32         NaN      NaN      NaN     NaN  1.378405   \n",
      "36451       0.2240     241.33         NaN      NaN      NaN     NaN  0.690849   \n",
      "\n",
      "       hz_outer  is_habitable  \n",
      "23     2.062239          True  \n",
      "33     1.481967          True  \n",
      "189    2.445635          True  \n",
      "196    1.759074          True  \n",
      "1774   0.571327          True  \n",
      "...         ...           ...  \n",
      "36398  1.523402          True  \n",
      "36399  1.961420          True  \n",
      "36400  1.890892          True  \n",
      "36401  1.985799          True  \n",
      "36451  0.995272          True  \n",
      "\n",
      "[89 rows x 15 columns]\n"
     ]
    },
    {
     "name": "stderr",
     "output_type": "stream",
     "text": [
      "C:\\Users\\jarne\\AppData\\Local\\Temp\\ipykernel_29820\\91623473.py:1: SettingWithCopyWarning: \n",
      "A value is trying to be set on a copy of a slice from a DataFrame.\n",
      "Try using .loc[row_indexer,col_indexer] = value instead\n",
      "\n",
      "See the caveats in the documentation: https://pandas.pydata.org/pandas-docs/stable/user_guide/indexing.html#returning-a-view-versus-a-copy\n",
      "  df['is_habitable'] = (df['pl_orbsmax'] >= df['hz_inner']) & (df['pl_orbsmax'] <= df['hz_outer'])\n"
     ]
    }
   ],
   "source": [
    "df['is_habitable'] = (df['pl_orbsmax'] >= df['hz_inner']) & (df['pl_orbsmax'] <= df['hz_outer'])\n",
    "\n",
    "habitable_planets = df[df['is_habitable']]\n",
    "\n",
    "print(habitable_planets)\n",
    "habitable_planets.to_csv(\"habitable_planets.csv\", index=True)"
   ]
  }
 ],
 "metadata": {
  "kernelspec": {
   "display_name": "Python 3",
   "language": "python",
   "name": "python3"
  },
  "language_info": {
   "codemirror_mode": {
    "name": "ipython",
    "version": 3
   },
   "file_extension": ".py",
   "mimetype": "text/x-python",
   "name": "python",
   "nbconvert_exporter": "python",
   "pygments_lexer": "ipython3",
   "version": "3.11.4"
  }
 },
 "nbformat": 4,
 "nbformat_minor": 2
}
