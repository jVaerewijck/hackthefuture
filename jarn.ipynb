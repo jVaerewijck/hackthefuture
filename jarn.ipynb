{
 "cells": [
  {
   "cell_type": "code",
   "execution_count": 42,
   "metadata": {},
   "outputs": [],
   "source": [
    "import pandas as pd\n",
    "import numpy as np"
   ]
  },
  {
   "cell_type": "code",
   "execution_count": 43,
   "metadata": {},
   "outputs": [
    {
     "name": "stderr",
     "output_type": "stream",
     "text": [
      "C:\\Users\\jarne\\AppData\\Local\\Temp\\ipykernel_40836\\3066643026.py:1: DtypeWarning: Columns (4,5) have mixed types. Specify dtype option on import or set low_memory=False.\n",
      "  df = pd.read_csv(\"NASA Exoplanet Data/NASA Exoplanet Archive - Planetary Systems Data.csv\")\n"
     ]
    }
   ],
   "source": [
    "df = pd.read_csv(\"NASA Exoplanet Data/NASA Exoplanet Archive - Planetary Systems Data.csv\")"
   ]
  },
  {
   "cell_type": "code",
   "execution_count": 44,
   "metadata": {},
   "outputs": [
    {
     "name": "stdout",
     "output_type": "stream",
     "text": [
      "       rowid    pl_name  st_teff  st_lum   sy_dist  pl_orbsmax  pl_orbeccen  \\\n",
      "0          1   11 Com b      NaN     NaN   93.1846       1.210          NaN   \n",
      "1          2   11 Com b   4742.0   2.243   93.1846       1.290        0.231   \n",
      "2          3   11 Com b   4874.0   1.978   93.1846       1.178        0.238   \n",
      "3          4   11 UMi b   4213.0     NaN  125.3210       1.530        0.080   \n",
      "4          5   11 UMi b      NaN     NaN  125.3210       1.510          NaN   \n",
      "...      ...        ...      ...     ...       ...         ...          ...   \n",
      "36457  36458  ups And d      NaN     NaN   13.4054       2.570        0.269   \n",
      "36458  36459  ups Leo b   4836.0   1.800   52.5973       1.180        0.320   \n",
      "36459  36460   xi Aql b      NaN     NaN   56.1858       0.580          NaN   \n",
      "36460  36461   xi Aql b   4780.0   1.839   56.1858       0.680        0.000   \n",
      "36461  36462   xi Aql b   4841.0   1.767   56.1858       0.625        0.059   \n",
      "\n",
      "        pl_orbper  pl_masse  pl_rade  pl_dens  pl_eqt  \n",
      "0             NaN       NaN      NaN      NaN     NaN  \n",
      "1       326.03000       NaN      NaN      NaN     NaN  \n",
      "2       323.21000       NaN      NaN      NaN     NaN  \n",
      "3       516.21997       NaN      NaN      NaN     NaN  \n",
      "4             NaN       NaN      NaN      NaN     NaN  \n",
      "...           ...       ...      ...      ...     ...  \n",
      "36457  1319.00000       NaN      NaN      NaN     NaN  \n",
      "36458   385.20000       NaN      NaN      NaN     NaN  \n",
      "36459         NaN       NaN      NaN      NaN     NaN  \n",
      "36460   136.75000       NaN      NaN      NaN     NaN  \n",
      "36461   136.97000       NaN      NaN      NaN     NaN  \n",
      "\n",
      "[36462 rows x 12 columns]\n",
      "rowid              0\n",
      "pl_name            0\n",
      "st_teff         2971\n",
      "st_lum         27106\n",
      "sy_dist          834\n",
      "pl_orbsmax     16426\n",
      "pl_orbeccen    18214\n",
      "pl_orbper       3175\n",
      "pl_masse       32443\n",
      "pl_rade        11617\n",
      "pl_dens        34227\n",
      "pl_eqt         19885\n",
      "dtype: int64\n",
      "rowid           0.000000\n",
      "pl_name         0.000000\n",
      "st_teff         8.148209\n",
      "st_lum         74.340409\n",
      "sy_dist         2.287313\n",
      "pl_orbsmax     45.049641\n",
      "pl_orbeccen    49.953376\n",
      "pl_orbper       8.707696\n",
      "pl_masse       88.977566\n",
      "pl_rade        31.860567\n",
      "pl_dens        93.870331\n",
      "pl_eqt         54.536229\n",
      "dtype: float64\n"
     ]
    }
   ],
   "source": [
    "columns_to_select = ['rowid', 'pl_name', 'st_teff','st_lum','sy_dist','pl_orbsmax','pl_orbeccen','pl_orbper','pl_masse','pl_rade','pl_dens','pl_eqt']\n",
    "selected_columns = df[columns_to_select]\n",
    "\n",
    "print(selected_columns)\n",
    "print(selected_columns.isnull().sum())\n",
    "print((selected_columns.isnull().sum() / len(df)) * 100)"
   ]
  },
  {
   "cell_type": "code",
   "execution_count": 45,
   "metadata": {},
   "outputs": [
    {
     "name": "stdout",
     "output_type": "stream",
     "text": [
      "       rowid             pl_name  st_teff  st_lum  sy_dist  pl_orbsmax  \\\n",
      "34860  34861  Teegarden's Star c   3034.0  -3.141  3.83078      0.0455   \n",
      "34861  34862  Teegarden's Star c   2904.0  -3.137  3.83078      0.0443   \n",
      "\n",
      "       pl_orbeccen  pl_orbper  pl_masse  pl_rade  pl_dens  pl_eqt  \n",
      "34860         0.04     11.416       NaN      NaN      NaN   209.0  \n",
      "34861         0.00     11.409       NaN      NaN      NaN     NaN  \n"
     ]
    }
   ],
   "source": [
    "proxima_cen_b_rows = selected_columns[selected_columns['pl_name'] == \"Teegarden's Star c\"]\n",
    "\n",
    "# Print the rows\n",
    "print(proxima_cen_b_rows)"
   ]
  },
  {
   "cell_type": "code",
   "execution_count": 46,
   "metadata": {},
   "outputs": [],
   "source": [
    "INNER_CONSTANT = 1.1\n",
    "OUTER_CONSTANT = 0.53\n",
    "\n",
    "def habitable_zone(luminosity):\n",
    "    luminosity = 10 ** luminosity\n",
    "    r_inner = np.sqrt(luminosity / INNER_CONSTANT)\n",
    "    r_outer = np.sqrt(luminosity / OUTER_CONSTANT)\n",
    "    return r_inner, r_outer"
   ]
  },
  {
   "cell_type": "code",
   "execution_count": 47,
   "metadata": {},
   "outputs": [],
   "source": [
    "df_grouped = selected_columns.groupby('pl_name').agg({\n",
    "    'rowid':'min',\n",
    "    'st_teff': 'mean',\n",
    "    'st_lum': 'mean',\n",
    "    'sy_dist':'mean',\n",
    "    'pl_orbsmax':'mean',\n",
    "    'pl_orbeccen':'mean',\n",
    "    'pl_orbper':'mean',\n",
    "    'pl_masse':'mean',\n",
    "    'pl_rade':'mean',\n",
    "    'pl_dens':'mean',\n",
    "    'pl_eqt':'mean'\n",
    "}).reset_index()"
   ]
  },
  {
   "cell_type": "code",
   "execution_count": null,
   "metadata": {},
   "outputs": [
    {
     "name": "stdout",
     "output_type": "stream",
     "text": [
      "           pl_name  rowid      st_teff  st_lum  sy_dist  pl_orbsmax  \\\n",
      "4024  Kepler-452 b  25682  5687.166667   0.084  551.727    1.009733   \n",
      "\n",
      "      pl_orbeccen   pl_orbper  pl_masse  pl_rade  pl_dens  pl_eqt  \n",
      "4024          0.0  384.844831       NaN   1.3722      NaN   235.0  \n"
     ]
    },
    {
     "name": "stderr",
     "output_type": "stream",
     "text": [
      "C:\\Users\\jarne\\AppData\\Local\\Temp\\ipykernel_40836\\3876470094.py:11: SettingWithCopyWarning: \n",
      "A value is trying to be set on a copy of a slice from a DataFrame.\n",
      "Try using .loc[row_indexer,col_indexer] = value instead\n",
      "\n",
      "See the caveats in the documentation: https://pandas.pydata.org/pandas-docs/stable/user_guide/indexing.html#returning-a-view-versus-a-copy\n",
      "  df['hz_inner'] = hz_inner\n",
      "C:\\Users\\jarne\\AppData\\Local\\Temp\\ipykernel_40836\\3876470094.py:12: SettingWithCopyWarning: \n",
      "A value is trying to be set on a copy of a slice from a DataFrame.\n",
      "Try using .loc[row_indexer,col_indexer] = value instead\n",
      "\n",
      "See the caveats in the documentation: https://pandas.pydata.org/pandas-docs/stable/user_guide/indexing.html#returning-a-view-versus-a-copy\n",
      "  df['hz_outer'] = hz_outer\n"
     ]
    }
   ],
   "source": [
    "df = df_grouped.dropna(subset=['st_lum'])\n",
    "\n",
    "hz_inner = []\n",
    "hz_outer = []\n",
    "\n",
    "for luminosity in df['st_lum']:\n",
    "    r_inner, r_outer = habitable_zone(luminosity)\n",
    "    hz_inner.append(r_inner)\n",
    "    hz_outer.append(r_outer)\n",
    "\n",
    "df['hz_inner'] = hz_inner\n",
    "df['hz_outer'] = hz_outer\n",
    "\n",
    "proxima_cen_b_rows = df[df['pl_name'] == \"Kepler-452 b\"]\n",
    "\n",
    "# Print the rows\n",
    "print(proxima_cen_b_rows)"
   ]
  },
  {
   "cell_type": "code",
   "execution_count": 49,
   "metadata": {},
   "outputs": [
    {
     "name": "stdout",
     "output_type": "stream",
     "text": [
      "           pl_name  rowid      st_teff    st_lum    sy_dist  pl_orbsmax  \\\n",
      "36        55 Cnc f    124  5248.315000 -0.197000   12.58550    0.778586   \n",
      "56    BD+14 4559 b    184  4936.000000 -0.320000   49.35200    0.778500   \n",
      "187      GJ 1002 b    510  3024.000000 -2.852000    4.84867    0.045700   \n",
      "191      GJ 1061 d    514  2953.000000 -2.770000    3.67278    0.054000   \n",
      "209       GJ 180 c    571  3371.000000 -1.886000   11.94070    0.129000   \n",
      "...            ...    ...          ...       ...        ...         ...   \n",
      "5152    TOI-1736 c  34027  5704.333333  0.260500   88.94820    1.373667   \n",
      "5195     TOI-199 c  34123  5255.000000 -0.338000  102.27000    0.807000   \n",
      "5448     TOI-700 d  34709  3470.500000 -1.636000   31.12650    0.163200   \n",
      "5492  TRAPPIST-1 e  34829  2548.333333 -3.265333        NaN    0.028986   \n",
      "5718   Wolf 1069 b  36242  3158.000000 -2.531000    9.58341    0.067200   \n",
      "\n",
      "      pl_orbeccen   pl_orbper     pl_masse  pl_rade   pl_dens  pl_eqt  \\\n",
      "36       0.161000  260.810000    45.908550      NaN       NaN     NaN   \n",
      "56       0.290000  268.940000          NaN      NaN       NaN     NaN   \n",
      "187           NaN   10.346500          NaN      NaN       NaN   231.0   \n",
      "191      0.530000   13.031000          NaN      NaN       NaN     NaN   \n",
      "209      0.090000   24.329000          NaN      NaN       NaN     NaN   \n",
      "...           ...         ...          ...      ...       ...     ...   \n",
      "5152     0.366500  570.883333  2800.000000      NaN       NaN   261.5   \n",
      "5195     0.096000  273.690000    88.991950      NaN       NaN     NaN   \n",
      "5448     0.061667   37.424598          NaN  1.18425       NaN   258.0   \n",
      "5492     0.045050    6.099311     0.694667  0.91600  4.982533   250.5   \n",
      "5718          NaN   15.564000          NaN      NaN       NaN   250.0   \n",
      "\n",
      "      hz_inner  hz_outer  is_habitable  \n",
      "36    0.759983  1.094869          True  \n",
      "56    0.659635  0.950303          True  \n",
      "187   0.035752  0.051507          True  \n",
      "191   0.039292  0.056606          True  \n",
      "209   0.108719  0.156625          True  \n",
      "...        ...       ...           ...  \n",
      "5152  1.286926  1.854010          True  \n",
      "5195  0.646106  0.930812          True  \n",
      "5448  0.144979  0.208863          True  \n",
      "5492  0.022215  0.032003          True  \n",
      "5718  0.051737  0.074535          True  \n",
      "\n",
      "[80 rows x 15 columns]\n"
     ]
    },
    {
     "name": "stderr",
     "output_type": "stream",
     "text": [
      "C:\\Users\\jarne\\AppData\\Local\\Temp\\ipykernel_40836\\3884127847.py:1: SettingWithCopyWarning: \n",
      "A value is trying to be set on a copy of a slice from a DataFrame.\n",
      "Try using .loc[row_indexer,col_indexer] = value instead\n",
      "\n",
      "See the caveats in the documentation: https://pandas.pydata.org/pandas-docs/stable/user_guide/indexing.html#returning-a-view-versus-a-copy\n",
      "  df['is_habitable'] = (df['pl_orbsmax'] >= df['hz_inner']) & (df['pl_orbsmax'] <= df['hz_outer'])\n"
     ]
    }
   ],
   "source": [
    "df['is_habitable'] = (df['pl_orbsmax'] >= df['hz_inner']) & (df['pl_orbsmax'] <= df['hz_outer'])\n",
    "\n",
    "habitable_planets = df[df['is_habitable']]\n",
    "\n",
    "print(habitable_planets)\n",
    "habitable_planets.to_csv(\"habitable_planets.csv\", index=True)"
   ]
  }
 ],
 "metadata": {
  "kernelspec": {
   "display_name": "Python 3",
   "language": "python",
   "name": "python3"
  },
  "language_info": {
   "codemirror_mode": {
    "name": "ipython",
    "version": 3
   },
   "file_extension": ".py",
   "mimetype": "text/x-python",
   "name": "python",
   "nbconvert_exporter": "python",
   "pygments_lexer": "ipython3",
   "version": "3.11.4"
  }
 },
 "nbformat": 4,
 "nbformat_minor": 2
}
