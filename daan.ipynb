{
 "cells": [
  {
   "cell_type": "code",
   "execution_count": null,
   "metadata": {},
   "outputs": [
    {
     "name": "stdout",
     "output_type": "stream",
     "text": [
      "Average Planet (based on the 10 most Earth-like planets):\n",
      "pl_orbper           2335.120763\n",
      "pl_rade                3.832544\n",
      "pl_orbsmax             3.795533\n",
      "pl_masse            1940.493474\n",
      "pl_orbeccen            0.353782\n",
      "st_teff             5378.664267\n",
      "st_lum                 0.922600\n",
      "pl_dens                5.133756\n",
      "pl_eqt               243.533651\n",
      "Earth Similarity      48.719079\n",
      "dtype: float64\n"
     ]
    },
    {
     "name": "stderr",
     "output_type": "stream",
     "text": [
      "c:\\Users\\jarne\\AppData\\Local\\Programs\\Python\\Python311\\Lib\\site-packages\\sklearn\\base.py:493: UserWarning: X does not have valid feature names, but MinMaxScaler was fitted with feature names\n",
      "  warnings.warn(\n"
     ]
    }
   ],
   "source": [
    "import pandas as pd\n",
    "import numpy as np\n",
    "from sklearn.preprocessing import MinMaxScaler\n",
    "\n",
    "df = pd.read_csv(\"habitable_planets.csv\")\n",
    "\n",
    "columns_to_compare = ['pl_orbper', 'pl_rade', 'pl_orbsmax', 'pl_masse', 'pl_orbeccen', 'st_teff', 'st_lum', 'pl_dens','pl_eqt']\n",
    "df = df[columns_to_compare]\n",
    "\n",
    "df.fillna(df.mean(), inplace=True)\n",
    "\n",
    "earth_reference = {\n",
    "    'pl_rade': 1,  # Earth's radius in Earth radii\n",
    "    'pl_masse': 1,  # Earth's mass in Earth masses\n",
    "    'pl_orbper': 365.25,  # Earth's orbital period in days\n",
    "    'pl_eqt': 288,  # Earth's surface temperature in Kelvin (Note: If not included, make sure it aligns with columns_to_compare)\n",
    "    'pl_orbeccen': 0.0167,  # Earth's orbital eccentricity\n",
    "    'st_teff': 5772,  # Sun's effective temperature in Kelvin\n",
    "    'st_lum': 1,  # Sun's luminosity in Solar luminosities\n",
    "    'pl_orbsmax': 1,  # Earth's distance from the Sun in parsecs (approx 1)\n",
    "    'pl_dens': 5.51,  # Earth's density in g/cm^3\n",
    "}\n",
    "\n",
    "scaler = MinMaxScaler()\n",
    "df_scaled = scaler.fit_transform(df)\n",
    "earth_scaled = scaler.transform([list(earth_reference.values())])[0]\n",
    "\n",
    "distances = np.linalg.norm(df_scaled - earth_scaled, axis=1)\n",
    "\n",
    "df['Earth Similarity'] = distances\n",
    "\n",
    "df_sorted = df.sort_values(by='Earth Similarity')\n",
    "#print(df_sorted.head(10))\n",
    "\n",
    "top_10_planets = df_sorted.head(10)\n",
    "average_planet = top_10_planets.mean()\n",
    "\n",
    "# # Display the average planet characteristics\n",
    "# print(\"Average Planet (based on the 10 most Earth-like planets):\")\n",
    "# print(average_planet)\n"
   ]
  }
 ],
 "metadata": {
  "kernelspec": {
   "display_name": "Python 3",
   "language": "python",
   "name": "python3"
  },
  "language_info": {
   "codemirror_mode": {
    "name": "ipython",
    "version": 3
   },
   "file_extension": ".py",
   "mimetype": "text/x-python",
   "name": "python",
   "nbconvert_exporter": "python",
   "pygments_lexer": "ipython3",
   "version": "3.11.4"
  }
 },
 "nbformat": 4,
 "nbformat_minor": 2
}
